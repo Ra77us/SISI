{
  "cells": [
    {
      "cell_type": "code",
      "execution_count": null,
      "id": "d34da2f6-d192-4445-a084-6731d9456b54",
      "metadata": {
        "id": "d34da2f6-d192-4445-a084-6731d9456b54"
      },
      "outputs": [],
      "source": [
        "import jsonpickle\n",
        "import numpy as np\n",
        "import time\n",
        "from sktime.classification.dictionary_based import MUSE"
      ]
    },
    {
      "cell_type": "code",
      "execution_count": null,
      "id": "11a2affe-56e9-41f2-8bac-7cdb4b07a70a",
      "metadata": {
        "id": "11a2affe-56e9-41f2-8bac-7cdb4b07a70a"
      },
      "outputs": [],
      "source": [
        "in_labels_file = 'out_labels.json'\n",
        "in_glyphs_filename = 'out_normalized_glyphs.json'"
      ]
    },
    {
      "cell_type": "code",
      "execution_count": null,
      "id": "94c31b4b-9290-4358-bb5f-d70d84c13182",
      "metadata": {
        "id": "94c31b4b-9290-4358-bb5f-d70d84c13182"
      },
      "outputs": [],
      "source": [
        "with open(in_glyphs_filename, 'r') as glyphs_file, open(in_labels_file, 'r') as labels_file:\n",
        "    glyphs = jsonpickle.decode(glyphs_file.read())\n",
        "    labels = jsonpickle.decode(labels_file.read())"
      ]
    },
    {
      "cell_type": "code",
      "execution_count": null,
      "id": "8043b89e-60c6-4fa5-8034-11f4ab1c5c73",
      "metadata": {
        "id": "8043b89e-60c6-4fa5-8034-11f4ab1c5c73"
      },
      "outputs": [],
      "source": [
        "X = []\n",
        "maxlen = 0\n",
        "for g in glyphs:\n",
        "    v_x = []\n",
        "    v_y = []\n",
        "    for stroke in g:\n",
        "        for i in range(0, len(stroke), 2):\n",
        "          v_x.append(stroke[i])\n",
        "          v_y.append(stroke[i + 1])\n",
        "    maxlen = max(maxlen, len(v_x))\n",
        "    X.append([v_x, v_y])"
      ]
    },
    {
      "cell_type": "code",
      "execution_count": null,
      "id": "811976af-083c-437d-b74b-9d32454a62cd",
      "metadata": {
        "id": "811976af-083c-437d-b74b-9d32454a62cd"
      },
      "outputs": [],
      "source": [
        "for i in range(len(X)):\n",
        "    if len(X[i][0]) < maxlen:\n",
        "        X[i][0].extend([X[i][0][-1]] * (maxlen - len(X[i][0])))\n",
        "        X[i][1].extend([X[i][1][-1]] * (maxlen - len(X[i][1])))"
      ]
    },
    {
      "cell_type": "code",
      "execution_count": null,
      "id": "b039ba87-b6ac-445f-861e-3040d1ee4369",
      "metadata": {
        "id": "b039ba87-b6ac-445f-861e-3040d1ee4369"
      },
      "outputs": [],
      "source": [
        "labels_mapping = {i: l for i, l in enumerate(sorted(set(labels)))}\n",
        "labels_mapping_rev = {l: i for i, l in labels_mapping.items()}\n",
        "\n",
        "labels = [labels_mapping_rev[l] for l in labels]"
      ]
    },
    {
      "cell_type": "code",
      "source": [
        "items = np.array(X)\n",
        "labels = np.array(labels)"
      ],
      "metadata": {
        "id": "jxfNuXZtTZCA"
      },
      "id": "jxfNuXZtTZCA",
      "execution_count": null,
      "outputs": []
    },
    {
      "cell_type": "code",
      "execution_count": null,
      "id": "79e3e9a0-3d28-4331-8519-fd4cefe6ce66",
      "metadata": {
        "id": "79e3e9a0-3d28-4331-8519-fd4cefe6ce66"
      },
      "outputs": [],
      "source": [
        "idx = 100\n",
        "\n",
        "train_items = []\n",
        "train_labels = []\n",
        "test_items = []\n",
        "test_labels = []\n",
        "for l in labels_mapping.keys():\n",
        "    label_items = items[labels == l]\n",
        "    train_items.extend(label_items[:idx])\n",
        "    train_labels.extend([l]*idx)\n",
        "    test_items.extend(label_items[idx:])\n",
        "    test_labels.extend([l]*(len(label_items) - idx))\n",
        "train_items = np.array(train_items)\n",
        "train_labels = np.array(train_labels)\n",
        "test_items = np.array(test_items)\n",
        "test_labels = np.array(test_labels)"
      ]
    },
    {
      "cell_type": "code",
      "execution_count": null,
      "id": "55aff6db-aa82-4508-ac85-090dc314dfb1",
      "metadata": {
        "id": "55aff6db-aa82-4508-ac85-090dc314dfb1"
      },
      "outputs": [],
      "source": [
        "clf = MUSE()"
      ]
    },
    {
      "cell_type": "code",
      "source": [
        "train_items.shape"
      ],
      "metadata": {
        "colab": {
          "base_uri": "https://localhost:8080/"
        },
        "id": "1FKHxqpdTK2Q",
        "outputId": "d9252af0-86e9-4213-9626-41c5f5d602b5"
      },
      "id": "1FKHxqpdTK2Q",
      "execution_count": null,
      "outputs": [
        {
          "output_type": "execute_result",
          "data": {
            "text/plain": [
              "(9700, 2, 392)"
            ]
          },
          "metadata": {},
          "execution_count": 40
        }
      ]
    },
    {
      "cell_type": "code",
      "execution_count": null,
      "id": "17906ef2-1c2b-42cf-a44e-7a0fb1069fe0",
      "metadata": {
        "id": "17906ef2-1c2b-42cf-a44e-7a0fb1069fe0",
        "colab": {
          "base_uri": "https://localhost:8080/",
          "height": 74
        },
        "outputId": "c4b8b848-3004-4bac-d453-faf986deba3c"
      },
      "outputs": [
        {
          "output_type": "execute_result",
          "data": {
            "text/plain": [
              "MUSE()"
            ],
            "text/html": [
              "<style>#sk-40e41604-b4aa-4a94-bb58-5329be343968 {color: black;background-color: white;}#sk-40e41604-b4aa-4a94-bb58-5329be343968 pre{padding: 0;}#sk-40e41604-b4aa-4a94-bb58-5329be343968 div.sk-toggleable {background-color: white;}#sk-40e41604-b4aa-4a94-bb58-5329be343968 label.sk-toggleable__label {cursor: pointer;display: block;width: 100%;margin-bottom: 0;padding: 0.3em;box-sizing: border-box;text-align: center;}#sk-40e41604-b4aa-4a94-bb58-5329be343968 label.sk-toggleable__label-arrow:before {content: \"▸\";float: left;margin-right: 0.25em;color: #696969;}#sk-40e41604-b4aa-4a94-bb58-5329be343968 label.sk-toggleable__label-arrow:hover:before {color: black;}#sk-40e41604-b4aa-4a94-bb58-5329be343968 div.sk-estimator:hover label.sk-toggleable__label-arrow:before {color: black;}#sk-40e41604-b4aa-4a94-bb58-5329be343968 div.sk-toggleable__content {max-height: 0;max-width: 0;overflow: hidden;text-align: left;background-color: #f0f8ff;}#sk-40e41604-b4aa-4a94-bb58-5329be343968 div.sk-toggleable__content pre {margin: 0.2em;color: black;border-radius: 0.25em;background-color: #f0f8ff;}#sk-40e41604-b4aa-4a94-bb58-5329be343968 input.sk-toggleable__control:checked~div.sk-toggleable__content {max-height: 200px;max-width: 100%;overflow: auto;}#sk-40e41604-b4aa-4a94-bb58-5329be343968 input.sk-toggleable__control:checked~label.sk-toggleable__label-arrow:before {content: \"▾\";}#sk-40e41604-b4aa-4a94-bb58-5329be343968 div.sk-estimator input.sk-toggleable__control:checked~label.sk-toggleable__label {background-color: #d4ebff;}#sk-40e41604-b4aa-4a94-bb58-5329be343968 div.sk-label input.sk-toggleable__control:checked~label.sk-toggleable__label {background-color: #d4ebff;}#sk-40e41604-b4aa-4a94-bb58-5329be343968 input.sk-hidden--visually {border: 0;clip: rect(1px 1px 1px 1px);clip: rect(1px, 1px, 1px, 1px);height: 1px;margin: -1px;overflow: hidden;padding: 0;position: absolute;width: 1px;}#sk-40e41604-b4aa-4a94-bb58-5329be343968 div.sk-estimator {font-family: monospace;background-color: #f0f8ff;border: 1px dotted black;border-radius: 0.25em;box-sizing: border-box;margin-bottom: 0.5em;}#sk-40e41604-b4aa-4a94-bb58-5329be343968 div.sk-estimator:hover {background-color: #d4ebff;}#sk-40e41604-b4aa-4a94-bb58-5329be343968 div.sk-parallel-item::after {content: \"\";width: 100%;border-bottom: 1px solid gray;flex-grow: 1;}#sk-40e41604-b4aa-4a94-bb58-5329be343968 div.sk-label:hover label.sk-toggleable__label {background-color: #d4ebff;}#sk-40e41604-b4aa-4a94-bb58-5329be343968 div.sk-serial::before {content: \"\";position: absolute;border-left: 1px solid gray;box-sizing: border-box;top: 2em;bottom: 0;left: 50%;}#sk-40e41604-b4aa-4a94-bb58-5329be343968 div.sk-serial {display: flex;flex-direction: column;align-items: center;background-color: white;padding-right: 0.2em;padding-left: 0.2em;}#sk-40e41604-b4aa-4a94-bb58-5329be343968 div.sk-item {z-index: 1;}#sk-40e41604-b4aa-4a94-bb58-5329be343968 div.sk-parallel {display: flex;align-items: stretch;justify-content: center;background-color: white;}#sk-40e41604-b4aa-4a94-bb58-5329be343968 div.sk-parallel::before {content: \"\";position: absolute;border-left: 1px solid gray;box-sizing: border-box;top: 2em;bottom: 0;left: 50%;}#sk-40e41604-b4aa-4a94-bb58-5329be343968 div.sk-parallel-item {display: flex;flex-direction: column;position: relative;background-color: white;}#sk-40e41604-b4aa-4a94-bb58-5329be343968 div.sk-parallel-item:first-child::after {align-self: flex-end;width: 50%;}#sk-40e41604-b4aa-4a94-bb58-5329be343968 div.sk-parallel-item:last-child::after {align-self: flex-start;width: 50%;}#sk-40e41604-b4aa-4a94-bb58-5329be343968 div.sk-parallel-item:only-child::after {width: 0;}#sk-40e41604-b4aa-4a94-bb58-5329be343968 div.sk-dashed-wrapped {border: 1px dashed gray;margin: 0 0.4em 0.5em 0.4em;box-sizing: border-box;padding-bottom: 0.4em;background-color: white;position: relative;}#sk-40e41604-b4aa-4a94-bb58-5329be343968 div.sk-label label {font-family: monospace;font-weight: bold;background-color: white;display: inline-block;line-height: 1.2em;}#sk-40e41604-b4aa-4a94-bb58-5329be343968 div.sk-label-container {position: relative;z-index: 2;text-align: center;}#sk-40e41604-b4aa-4a94-bb58-5329be343968 div.sk-container {/* jupyter's `normalize.less` sets `[hidden] { display: none; }` but bootstrap.min.css set `[hidden] { display: none !important; }` so we also need the `!important` here to be able to override the default hidden behavior on the sphinx rendered scikit-learn.org. See: https://github.com/scikit-learn/scikit-learn/issues/21755 */display: inline-block !important;position: relative;}#sk-40e41604-b4aa-4a94-bb58-5329be343968 div.sk-text-repr-fallback {display: none;}</style><div id='sk-40e41604-b4aa-4a94-bb58-5329be343968' class=\"sk-top-container\"><div class=\"sk-text-repr-fallback\"><pre>MUSE()</pre><b>Please rerun this cell to show the HTML repr or trust the notebook.</b></div><div class=\"sk-container\" hidden><div class='sk-item'><div class=\"sk-estimator sk-toggleable\"><input class=\"sk-toggleable__control sk-hidden--visually\" id=UUID('ffa91b69-2854-4a2f-a2f2-a682338f11e1') type=\"checkbox\" checked><label for=UUID('ffa91b69-2854-4a2f-a2f2-a682338f11e1') class='sk-toggleable__label sk-toggleable__label-arrow'>MUSE</label><div class=\"sk-toggleable__content\"><pre>MUSE()</pre></div></div></div></div></div>"
            ]
          },
          "metadata": {},
          "execution_count": 41
        }
      ],
      "source": [
        "clf.fit(train_items, train_labels)"
      ]
    },
    {
      "cell_type": "code",
      "source": [
        "clf.score(test_items, test_labels)"
      ],
      "metadata": {
        "colab": {
          "base_uri": "https://localhost:8080/"
        },
        "id": "jWjyqQorUDHC",
        "outputId": "a8e60717-4fd4-4724-b2a2-c5d9c5418548"
      },
      "id": "jWjyqQorUDHC",
      "execution_count": null,
      "outputs": [
        {
          "output_type": "execute_result",
          "data": {
            "text/plain": [
              "0.6381443298969072"
            ]
          },
          "metadata": {},
          "execution_count": 42
        }
      ]
    },
    {
      "cell_type": "code",
      "source": [
        "t = time.time()\n",
        "for i in range(100):\n",
        "  clf.predict(test_items[i:i + 1])\n",
        "print((time.time() - t)/100)"
      ],
      "metadata": {
        "colab": {
          "base_uri": "https://localhost:8080/"
        },
        "id": "ednpzvUm2638",
        "outputId": "1a18923e-5944-461c-cfbd-ee6531c4d17e"
      },
      "id": "ednpzvUm2638",
      "execution_count": null,
      "outputs": [
        {
          "output_type": "stream",
          "name": "stdout",
          "text": [
            "0.18913450002670287\n"
          ]
        }
      ]
    },
    {
      "cell_type": "code",
      "source": [
        "preds = clf.predict(test_items)"
      ],
      "metadata": {
        "id": "ptnjAv3nbCri"
      },
      "id": "ptnjAv3nbCri",
      "execution_count": null,
      "outputs": []
    },
    {
      "cell_type": "code",
      "source": [
        "wrong_preds = {l: 0 for l in labels_mapping.keys()}"
      ],
      "metadata": {
        "id": "Pgut8dbyTAKG"
      },
      "id": "Pgut8dbyTAKG",
      "execution_count": null,
      "outputs": []
    },
    {
      "cell_type": "code",
      "source": [
        "counter = 0\n",
        "for i, pred in enumerate(preds):\n",
        "  if pred != test_labels[i]:\n",
        "    wrong_preds[test_labels[i]] += 1"
      ],
      "metadata": {
        "id": "y4z17GGgbHAZ"
      },
      "id": "y4z17GGgbHAZ",
      "execution_count": null,
      "outputs": []
    },
    {
      "cell_type": "code",
      "source": [
        "pred_as = {l: {l2: 0 for l2 in labels_mapping.keys()} for l in labels_mapping.keys()}\n",
        "for i, pred in enumerate(preds):\n",
        "  pred_as[test_labels[i]][pred] += 1"
      ],
      "metadata": {
        "id": "8lipH2WtTcCV"
      },
      "id": "8lipH2WtTcCV",
      "execution_count": null,
      "outputs": []
    },
    {
      "cell_type": "code",
      "source": [
        "for l, wp in wrong_preds.items():\n",
        "  if wp > 0:\n",
        "    print(f\"{labels_mapping[l]}: {wp}\")"
      ],
      "metadata": {
        "colab": {
          "base_uri": "https://localhost:8080/"
        },
        "id": "3AJI1EY5Tg7k",
        "outputId": "e8120f6d-f762-4134-c4fd-b1e1820986c1"
      },
      "id": "3AJI1EY5Tg7k",
      "execution_count": null,
      "outputs": [
        {
          "output_type": "stream",
          "name": "stdout",
          "text": [
            "!: 6\n",
            "\": 2\n",
            "$: 2\n",
            "': 7\n",
            "(: 7\n",
            "): 10\n",
            ",: 12\n",
            "-: 6\n",
            ".: 9\n",
            "0: 3\n",
            "1: 13\n",
            "2: 9\n",
            "3: 3\n",
            "4: 7\n",
            "5: 5\n",
            "6: 7\n",
            "7: 7\n",
            "8: 7\n",
            "9: 5\n",
            ":: 3\n",
            ";: 5\n",
            "<: 7\n",
            ">: 3\n",
            "?: 1\n",
            "@: 2\n",
            "A: 4\n",
            "Aacute: 8\n",
            "B: 3\n",
            "C: 14\n",
            "D: 6\n",
            "E: 10\n",
            "Eacute: 3\n",
            "F: 3\n",
            "G: 6\n",
            "H: 4\n",
            "I: 17\n",
            "Iacute: 10\n",
            "J: 9\n",
            "K: 11\n",
            "L: 7\n",
            "M: 5\n",
            "N: 8\n",
            "Ntilde: 7\n",
            "O: 11\n",
            "Oacute: 10\n",
            "P: 11\n",
            "Q: 6\n",
            "R: 4\n",
            "S: 12\n",
            "T: 9\n",
            "U: 16\n",
            "Uacute: 8\n",
            "Uuml: 6\n",
            "V: 11\n",
            "W: 3\n",
            "X: 12\n",
            "Y: 10\n",
            "Z: 9\n",
            "a: 1\n",
            "aacute: 6\n",
            "b: 9\n",
            "c: 15\n",
            "d: 2\n",
            "e: 5\n",
            "eacute: 1\n",
            "euro: 5\n",
            "f: 7\n",
            "g: 7\n",
            "h: 3\n",
            "i: 8\n",
            "iacute: 12\n",
            "iexcl: 10\n",
            "iquest: 4\n",
            "j: 5\n",
            "k: 15\n",
            "l: 8\n",
            "n: 7\n",
            "ntilde: 3\n",
            "o: 14\n",
            "oacute: 11\n",
            "ordf: 4\n",
            "ordm: 3\n",
            "p: 8\n",
            "q: 3\n",
            "r: 6\n",
            "s: 16\n",
            "t: 9\n",
            "u: 9\n",
            "uacute: 5\n",
            "v: 18\n",
            "w: 9\n",
            "x: 8\n",
            "y: 11\n",
            "z: 14\n"
          ]
        }
      ]
    },
    {
      "cell_type": "code",
      "source": [
        "for l, l_preds in pred_as.items():\n",
        "  for pred_l, count in l_preds.items():\n",
        "    if pred_l != l and count > 2:\n",
        "      print(f\"{labels_mapping[l]} as {labels_mapping[pred_l]}: {count}\")"
      ],
      "metadata": {
        "colab": {
          "base_uri": "https://localhost:8080/"
        },
        "id": "uffR1wwLTjqO",
        "outputId": "82b946bb-f1f3-499e-ea5d-95d909f4fd62"
      },
      "id": "uffR1wwLTjqO",
      "execution_count": null,
      "outputs": [
        {
          "output_type": "stream",
          "name": "stdout",
          "text": [
            "! as ?: 4\n",
            ") as (: 3\n",
            ", as ': 5\n",
            ". as -: 3\n",
            "1 as l: 3\n",
            "6 as G: 5\n",
            "9 as 4: 3\n",
            "Aacute as Eacute: 3\n",
            "Aacute as Iacute: 3\n",
            "C as <: 3\n",
            "C as c: 5\n",
            "Iacute as Eacute: 3\n",
            "K as k: 5\n",
            "M as m: 3\n",
            "N as M: 3\n",
            "Ntilde as ntilde: 5\n",
            "O as o: 6\n",
            "Oacute as oacute: 7\n",
            "P as p: 3\n",
            "S as s: 5\n",
            "U as V: 3\n",
            "Uacute as oacute: 3\n",
            "Uuml as uuml: 5\n",
            "X as x: 7\n",
            "Z as z: 4\n",
            "aacute as uacute: 5\n",
            "c as C: 5\n",
            "c as e: 4\n",
            "i as eacute: 3\n",
            "iacute as eacute: 6\n",
            "iexcl as i: 3\n",
            "k as K: 9\n",
            "o as O: 4\n",
            "p as P: 4\n",
            "u as n: 4\n",
            "v as V: 4\n",
            "v as w: 3\n",
            "w as W: 7\n",
            "x as X: 6\n",
            "y as f: 3\n",
            "z as Z: 11\n"
          ]
        }
      ]
    }
  ],
  "metadata": {
    "kernelspec": {
      "display_name": "Python 3 (ipykernel)",
      "language": "python",
      "name": "python3"
    },
    "language_info": {
      "codemirror_mode": {
        "name": "ipython",
        "version": 3
      },
      "file_extension": ".py",
      "mimetype": "text/x-python",
      "name": "python",
      "nbconvert_exporter": "python",
      "pygments_lexer": "ipython3",
      "version": "3.8.13"
    },
    "colab": {
      "provenance": []
    }
  },
  "nbformat": 4,
  "nbformat_minor": 5
}